{
 "cells": [
  {
   "cell_type": "markdown",
   "metadata": {},
   "source": [
    "# Introduction"
   ]
  },
  {
   "cell_type": "markdown",
   "metadata": {},
   "source": [
    "<img src=\"bookcover.jpg\" height=\"200\" width=\"150\" align =\"right\">\n",
    "I recently read the book <a href=\"https://www.goodreads.com/book/photo/34376766-blood-sweat-and-pixels\">\"Blood, Sweat, and Pixels\"</a> by Jason Schreier. Schreier is the News Editor at  <a href=\"https://kotaku.com/\">Kotaku</a> (the gaming website) and an excellent storyteller. The book recounts the development of various games from AAA blockbusters like <a href=\"https://en.wikipedia.org/wiki/Destiny_(video_game)\">Destiny</a> to one-man hero coded games like <a href=\"https://en.wikipedia.org/wiki/Stardew_Valley\">Stardew Valley</a>. \n",
    "\n",
    "I highly recommend this book to anyone who has an interest in gaming, technology, or project management (games present grueling technical and artistic challenges that make managing them a nightmare). One of the more interesting aspects of the book was the exploration of developer-publisher relationship, which can sometimes be antagonistic during  the development process. I was curious to learn more about the impact game publishers have on the industry -- so I created this notebook.\n",
    "\n",
    "The data in this notebook comes from a web scrape of the VGChartz and Metacritic websites, which I found on Kaggle (https://www.kaggle.com/rush4ratio/video-game-sales-with-ratings). Because the data was fairly clean already, I didn't have to do much to begin diving into the data right away."
   ]
  },
  {
   "cell_type": "markdown",
   "metadata": {},
   "source": [
    "# Data Exploration"
   ]
  },
  {
   "cell_type": "code",
   "execution_count": 1,
   "metadata": {},
   "outputs": [
    {
     "name": "stdout",
     "output_type": "stream",
     "text": [
      "Populating the interactive namespace from numpy and matplotlib\n"
     ]
    }
   ],
   "source": [
    "# Import the necessary modules\n",
    "import numpy as np\n",
    "import pandas as pd\n",
    "import matplotlib.pyplot as plt\n",
    "import seaborn as sns\n",
    "\n",
    "%pylab inline\n",
    "pylab.rcParams['figure.figsize'] = (10, 6)"
   ]
  },
  {
   "cell_type": "code",
   "execution_count": 26,
   "metadata": {
    "scrolled": true
   },
   "outputs": [
    {
     "data": {
      "text/html": [
       "<div>\n",
       "<style>\n",
       "    .dataframe thead tr:only-child th {\n",
       "        text-align: right;\n",
       "    }\n",
       "\n",
       "    .dataframe thead th {\n",
       "        text-align: left;\n",
       "    }\n",
       "\n",
       "    .dataframe tbody tr th {\n",
       "        vertical-align: top;\n",
       "    }\n",
       "</style>\n",
       "<table border=\"1\" class=\"dataframe\">\n",
       "  <thead>\n",
       "    <tr style=\"text-align: right;\">\n",
       "      <th></th>\n",
       "      <th>Name</th>\n",
       "      <th>Platform</th>\n",
       "      <th>Year_of_Release</th>\n",
       "      <th>Genre</th>\n",
       "      <th>Publisher</th>\n",
       "      <th>NA_Sales</th>\n",
       "      <th>EU_Sales</th>\n",
       "      <th>JP_Sales</th>\n",
       "      <th>Other_Sales</th>\n",
       "      <th>Global_Sales</th>\n",
       "      <th>Critic_Score</th>\n",
       "      <th>Critic_Count</th>\n",
       "      <th>User_Score</th>\n",
       "      <th>User_Count</th>\n",
       "      <th>Developer</th>\n",
       "      <th>Rating</th>\n",
       "    </tr>\n",
       "  </thead>\n",
       "  <tbody>\n",
       "    <tr>\n",
       "      <th>0</th>\n",
       "      <td>Wii Sports</td>\n",
       "      <td>Wii</td>\n",
       "      <td>2006.0</td>\n",
       "      <td>Sports</td>\n",
       "      <td>Nintendo</td>\n",
       "      <td>41.36</td>\n",
       "      <td>28.96</td>\n",
       "      <td>3.77</td>\n",
       "      <td>8.45</td>\n",
       "      <td>82.53</td>\n",
       "      <td>76.0</td>\n",
       "      <td>51.0</td>\n",
       "      <td>8</td>\n",
       "      <td>322.0</td>\n",
       "      <td>Nintendo</td>\n",
       "      <td>E</td>\n",
       "    </tr>\n",
       "    <tr>\n",
       "      <th>1</th>\n",
       "      <td>Super Mario Bros.</td>\n",
       "      <td>NES</td>\n",
       "      <td>1985.0</td>\n",
       "      <td>Platform</td>\n",
       "      <td>Nintendo</td>\n",
       "      <td>29.08</td>\n",
       "      <td>3.58</td>\n",
       "      <td>6.81</td>\n",
       "      <td>0.77</td>\n",
       "      <td>40.24</td>\n",
       "      <td>NaN</td>\n",
       "      <td>NaN</td>\n",
       "      <td>NaN</td>\n",
       "      <td>NaN</td>\n",
       "      <td>NaN</td>\n",
       "      <td>NaN</td>\n",
       "    </tr>\n",
       "    <tr>\n",
       "      <th>2</th>\n",
       "      <td>Mario Kart Wii</td>\n",
       "      <td>Wii</td>\n",
       "      <td>2008.0</td>\n",
       "      <td>Racing</td>\n",
       "      <td>Nintendo</td>\n",
       "      <td>15.68</td>\n",
       "      <td>12.76</td>\n",
       "      <td>3.79</td>\n",
       "      <td>3.29</td>\n",
       "      <td>35.52</td>\n",
       "      <td>82.0</td>\n",
       "      <td>73.0</td>\n",
       "      <td>8.3</td>\n",
       "      <td>709.0</td>\n",
       "      <td>Nintendo</td>\n",
       "      <td>E</td>\n",
       "    </tr>\n",
       "    <tr>\n",
       "      <th>3</th>\n",
       "      <td>Wii Sports Resort</td>\n",
       "      <td>Wii</td>\n",
       "      <td>2009.0</td>\n",
       "      <td>Sports</td>\n",
       "      <td>Nintendo</td>\n",
       "      <td>15.61</td>\n",
       "      <td>10.93</td>\n",
       "      <td>3.28</td>\n",
       "      <td>2.95</td>\n",
       "      <td>32.77</td>\n",
       "      <td>80.0</td>\n",
       "      <td>73.0</td>\n",
       "      <td>8</td>\n",
       "      <td>192.0</td>\n",
       "      <td>Nintendo</td>\n",
       "      <td>E</td>\n",
       "    </tr>\n",
       "    <tr>\n",
       "      <th>4</th>\n",
       "      <td>Pokemon Red/Pokemon Blue</td>\n",
       "      <td>GB</td>\n",
       "      <td>1996.0</td>\n",
       "      <td>Role-Playing</td>\n",
       "      <td>Nintendo</td>\n",
       "      <td>11.27</td>\n",
       "      <td>8.89</td>\n",
       "      <td>10.22</td>\n",
       "      <td>1.00</td>\n",
       "      <td>31.37</td>\n",
       "      <td>NaN</td>\n",
       "      <td>NaN</td>\n",
       "      <td>NaN</td>\n",
       "      <td>NaN</td>\n",
       "      <td>NaN</td>\n",
       "      <td>NaN</td>\n",
       "    </tr>\n",
       "    <tr>\n",
       "      <th>5</th>\n",
       "      <td>Tetris</td>\n",
       "      <td>GB</td>\n",
       "      <td>1989.0</td>\n",
       "      <td>Puzzle</td>\n",
       "      <td>Nintendo</td>\n",
       "      <td>23.20</td>\n",
       "      <td>2.26</td>\n",
       "      <td>4.22</td>\n",
       "      <td>0.58</td>\n",
       "      <td>30.26</td>\n",
       "      <td>NaN</td>\n",
       "      <td>NaN</td>\n",
       "      <td>NaN</td>\n",
       "      <td>NaN</td>\n",
       "      <td>NaN</td>\n",
       "      <td>NaN</td>\n",
       "    </tr>\n",
       "    <tr>\n",
       "      <th>6</th>\n",
       "      <td>New Super Mario Bros.</td>\n",
       "      <td>DS</td>\n",
       "      <td>2006.0</td>\n",
       "      <td>Platform</td>\n",
       "      <td>Nintendo</td>\n",
       "      <td>11.28</td>\n",
       "      <td>9.14</td>\n",
       "      <td>6.50</td>\n",
       "      <td>2.88</td>\n",
       "      <td>29.80</td>\n",
       "      <td>89.0</td>\n",
       "      <td>65.0</td>\n",
       "      <td>8.5</td>\n",
       "      <td>431.0</td>\n",
       "      <td>Nintendo</td>\n",
       "      <td>E</td>\n",
       "    </tr>\n",
       "    <tr>\n",
       "      <th>7</th>\n",
       "      <td>Wii Play</td>\n",
       "      <td>Wii</td>\n",
       "      <td>2006.0</td>\n",
       "      <td>Misc</td>\n",
       "      <td>Nintendo</td>\n",
       "      <td>13.96</td>\n",
       "      <td>9.18</td>\n",
       "      <td>2.93</td>\n",
       "      <td>2.84</td>\n",
       "      <td>28.92</td>\n",
       "      <td>58.0</td>\n",
       "      <td>41.0</td>\n",
       "      <td>6.6</td>\n",
       "      <td>129.0</td>\n",
       "      <td>Nintendo</td>\n",
       "      <td>E</td>\n",
       "    </tr>\n",
       "    <tr>\n",
       "      <th>8</th>\n",
       "      <td>New Super Mario Bros. Wii</td>\n",
       "      <td>Wii</td>\n",
       "      <td>2009.0</td>\n",
       "      <td>Platform</td>\n",
       "      <td>Nintendo</td>\n",
       "      <td>14.44</td>\n",
       "      <td>6.94</td>\n",
       "      <td>4.70</td>\n",
       "      <td>2.24</td>\n",
       "      <td>28.32</td>\n",
       "      <td>87.0</td>\n",
       "      <td>80.0</td>\n",
       "      <td>8.4</td>\n",
       "      <td>594.0</td>\n",
       "      <td>Nintendo</td>\n",
       "      <td>E</td>\n",
       "    </tr>\n",
       "    <tr>\n",
       "      <th>9</th>\n",
       "      <td>Duck Hunt</td>\n",
       "      <td>NES</td>\n",
       "      <td>1984.0</td>\n",
       "      <td>Shooter</td>\n",
       "      <td>Nintendo</td>\n",
       "      <td>26.93</td>\n",
       "      <td>0.63</td>\n",
       "      <td>0.28</td>\n",
       "      <td>0.47</td>\n",
       "      <td>28.31</td>\n",
       "      <td>NaN</td>\n",
       "      <td>NaN</td>\n",
       "      <td>NaN</td>\n",
       "      <td>NaN</td>\n",
       "      <td>NaN</td>\n",
       "      <td>NaN</td>\n",
       "    </tr>\n",
       "  </tbody>\n",
       "</table>\n",
       "</div>"
      ],
      "text/plain": [
       "                        Name Platform  Year_of_Release         Genre  \\\n",
       "0                 Wii Sports      Wii           2006.0        Sports   \n",
       "1          Super Mario Bros.      NES           1985.0      Platform   \n",
       "2             Mario Kart Wii      Wii           2008.0        Racing   \n",
       "3          Wii Sports Resort      Wii           2009.0        Sports   \n",
       "4   Pokemon Red/Pokemon Blue       GB           1996.0  Role-Playing   \n",
       "5                     Tetris       GB           1989.0        Puzzle   \n",
       "6      New Super Mario Bros.       DS           2006.0      Platform   \n",
       "7                   Wii Play      Wii           2006.0          Misc   \n",
       "8  New Super Mario Bros. Wii      Wii           2009.0      Platform   \n",
       "9                  Duck Hunt      NES           1984.0       Shooter   \n",
       "\n",
       "  Publisher  NA_Sales  EU_Sales  JP_Sales  Other_Sales  Global_Sales  \\\n",
       "0  Nintendo     41.36     28.96      3.77         8.45         82.53   \n",
       "1  Nintendo     29.08      3.58      6.81         0.77         40.24   \n",
       "2  Nintendo     15.68     12.76      3.79         3.29         35.52   \n",
       "3  Nintendo     15.61     10.93      3.28         2.95         32.77   \n",
       "4  Nintendo     11.27      8.89     10.22         1.00         31.37   \n",
       "5  Nintendo     23.20      2.26      4.22         0.58         30.26   \n",
       "6  Nintendo     11.28      9.14      6.50         2.88         29.80   \n",
       "7  Nintendo     13.96      9.18      2.93         2.84         28.92   \n",
       "8  Nintendo     14.44      6.94      4.70         2.24         28.32   \n",
       "9  Nintendo     26.93      0.63      0.28         0.47         28.31   \n",
       "\n",
       "   Critic_Score  Critic_Count User_Score  User_Count Developer Rating  \n",
       "0          76.0          51.0          8       322.0  Nintendo      E  \n",
       "1           NaN           NaN        NaN         NaN       NaN    NaN  \n",
       "2          82.0          73.0        8.3       709.0  Nintendo      E  \n",
       "3          80.0          73.0          8       192.0  Nintendo      E  \n",
       "4           NaN           NaN        NaN         NaN       NaN    NaN  \n",
       "5           NaN           NaN        NaN         NaN       NaN    NaN  \n",
       "6          89.0          65.0        8.5       431.0  Nintendo      E  \n",
       "7          58.0          41.0        6.6       129.0  Nintendo      E  \n",
       "8          87.0          80.0        8.4       594.0  Nintendo      E  \n",
       "9           NaN           NaN        NaN         NaN       NaN    NaN  "
      ]
     },
     "execution_count": 26,
     "metadata": {},
     "output_type": "execute_result"
    }
   ],
   "source": [
    "raw_data = pd.read_csv('Video_Games_Sales_as_at_22_Dec_2016.csv')\n",
    "raw_data.head(10)"
   ]
  },
  {
   "cell_type": "markdown",
   "metadata": {},
   "source": [
    "The imported dataset has information going back to 80s. So much has happened in the dynamic gaming industry since then -- large corporations were formed and shuttered -- that I decided to make this simpler by narrowing my scope of review. I decided to focus only on the most recent five years for which data was available (2012-2016)."
   ]
  },
  {
   "cell_type": "code",
   "execution_count": 4,
   "metadata": {
    "scrolled": true
   },
   "outputs": [],
   "source": [
    "data = raw_data[(raw_data['Year_of_Release'] <= 2016) & (raw_data['Year_of_Release'] >= 2012)]"
   ]
  },
  {
   "cell_type": "code",
   "execution_count": 5,
   "metadata": {},
   "outputs": [
    {
     "name": "stderr",
     "output_type": "stream",
     "text": [
      "/anaconda/lib/python3.6/site-packages/pandas/core/generic.py:3660: SettingWithCopyWarning: \n",
      "A value is trying to be set on a copy of a slice from a DataFrame\n",
      "\n",
      "See the caveats in the documentation: http://pandas.pydata.org/pandas-docs/stable/indexing.html#indexing-view-versus-copy\n",
      "  self._update_inplace(new_data)\n",
      "/anaconda/lib/python3.6/site-packages/pandas/core/indexing.py:517: SettingWithCopyWarning: \n",
      "A value is trying to be set on a copy of a slice from a DataFrame.\n",
      "Try using .loc[row_indexer,col_indexer] = value instead\n",
      "\n",
      "See the caveats in the documentation: http://pandas.pydata.org/pandas-docs/stable/indexing.html#indexing-view-versus-copy\n",
      "  self.obj[item] = s\n"
     ]
    }
   ],
   "source": [
    "# Clean up the fields for critic and user scores\n",
    "data.loc[:,'Critic_Count'].fillna(0.0, inplace=True)\n",
    "data.loc[:,'Critic_Score'].fillna(0.0, inplace=True)\n",
    "data.loc[:,'User_Score'].fillna(0.0, inplace=True)\n",
    "data.loc[data['User_Score'] == 'tbd', 'User_Score'] = 0.0"
   ]
  },
  {
   "cell_type": "markdown",
   "metadata": {},
   "source": [
    "# Data Analysis"
   ]
  },
  {
   "cell_type": "markdown",
   "metadata": {},
   "source": [
    "## Q1 : Which game publishers were the most prolific?"
   ]
  },
  {
   "cell_type": "code",
   "execution_count": 7,
   "metadata": {
    "collapsed": true
   },
   "outputs": [],
   "source": [
    "top_n = 5\n",
    "top_volume = list(data.groupby('Publisher')['Name'].count().nlargest(top_n))\n",
    "top_publishers = list(data.groupby('Publisher')['Name'].count().nlargest(top_n).index)"
   ]
  },
  {
   "cell_type": "code",
   "execution_count": 8,
   "metadata": {},
   "outputs": [
    {
     "name": "stdout",
     "output_type": "stream",
     "text": [
      "[332, 185, 182, 163, 120]\n",
      "['Namco Bandai Games', 'Activision', 'Electronic Arts', 'Ubisoft', 'Nintendo']\n"
     ]
    }
   ],
   "source": [
    "print (top_volume)\n",
    "print (top_publishers)"
   ]
  },
  {
   "cell_type": "code",
   "execution_count": 9,
   "metadata": {
    "scrolled": false
   },
   "outputs": [
    {
     "data": {
      "image/png": "[encoded data removed]",
      "text/plain": [
       "<matplotlib.figure.Figure at 0x10e905198>"
      ]
     },
     "metadata": {},
     "output_type": "display_data"
    }
   ],
   "source": [
    "x_vals = [i for i in range(len(top_volume))]\n",
    "plt.bar(x_vals, top_volume)\n",
    "plt.xticks(x_vals, top_publishers, rotation=0)\n",
    "plt.ylabel(\"Number of Titles\")\n",
    "plt.show()"
   ]
  },
  {
   "cell_type": "markdown",
   "metadata": {},
   "source": [
    "Holy cow! That's a lot of video games, expecially from Namco Bandai. A total of 332 games from them in five years! That's a lot of programming, art, and storytelling effort to fund in such a short amount of time."
   ]
  },
  {
   "cell_type": "markdown",
   "metadata": {},
   "source": [
    "# Q2 : How many games did they sell?"
   ]
  },
  {
   "cell_type": "code",
   "execution_count": 10,
   "metadata": {
    "scrolled": true
   },
   "outputs": [
    {
     "data": {
      "text/plain": [
       "Publisher\n",
       "Electronic Arts       218.57\n",
       "Nintendo              197.82\n",
       "Activision            187.67\n",
       "Ubisoft               129.52\n",
       "Namco Bandai Games     59.11\n",
       "Name: Global_Sales, dtype: float64"
      ]
     },
     "execution_count": 10,
     "metadata": {},
     "output_type": "execute_result"
    }
   ],
   "source": [
    "publisher_sales = data[data['Publisher'].isin(top_publishers)].groupby('Publisher')['Global_Sales'].sum().sort_values(ascending=False)\n",
    "publisher_sales"
   ]
  },
  {
   "cell_type": "code",
   "execution_count": 11,
   "metadata": {},
   "outputs": [
    {
     "data": {
      "image/png": "[encoded data removed]",
      "text/plain": [
       "<matplotlib.figure.Figure at 0x10e7bf358>"
      ]
     },
     "metadata": {},
     "output_type": "display_data"
    }
   ],
   "source": [
    "publisher_sales_list = list(publisher_sales.index)\n",
    "\n",
    "x_vals = [i for i in range(len(publisher_sales))]\n",
    "plt.bar(x_vals, publisher_sales)\n",
    "plt.xticks(x_vals, publisher_sales_list, rotation=0)\n",
    "plt.ylabel(\"Copies Sold (millions)\")\n",
    "plt.show()\n"
   ]
  },
  {
   "cell_type": "markdown",
   "metadata": {},
   "source": [
    "Interestingly, publishing a lot of games did not result directly in higher sales. Despite publishing fewer games, EA and Nintendo ranked higher in total games sold. I was particularly curious to learn why Bandai Namco ranked last, even though it published almost 2x the number of games compared to its closest competitor."
   ]
  },
  {
   "cell_type": "code",
   "execution_count": 12,
   "metadata": {
    "scrolled": true
   },
   "outputs": [
    {
     "data": {
      "text/plain": [
       "count    332.000000\n",
       "mean       0.178042\n",
       "std        0.313464\n",
       "min        0.010000\n",
       "25%        0.030000\n",
       "50%        0.080000\n",
       "75%        0.190000\n",
       "max        3.970000\n",
       "Name: Global_Sales, dtype: float64"
      ]
     },
     "execution_count": 12,
     "metadata": {},
     "output_type": "execute_result"
    }
   ],
   "source": [
    "data[data['Publisher'] == 'Namco Bandai Games']['Global_Sales'].describe()"
   ]
  },
  {
   "cell_type": "code",
   "execution_count": 13,
   "metadata": {},
   "outputs": [
    {
     "data": {
      "text/plain": [
       "Platform\n",
       "3DS     76\n",
       "DS       3\n",
       "PC       7\n",
       "PS3     79\n",
       "PS4     34\n",
       "PSP     40\n",
       "PSV     45\n",
       "Wii      6\n",
       "WiiU    13\n",
       "X360    20\n",
       "XOne     9\n",
       "Name: Name, dtype: int64"
      ]
     },
     "execution_count": 13,
     "metadata": {},
     "output_type": "execute_result"
    }
   ],
   "source": [
    "data[data['Publisher'] == 'Namco Bandai Games'].groupby('Platform').count()['Name']"
   ]
  },
  {
   "cell_type": "markdown",
   "metadata": {},
   "source": [
    "Upon closer inspection, it seems that 50% of Namco Bandai's games sold <= 80,000 units. These were likely lower quality games from independent developers who needed help marketing and distributing their games. It's also interesting to note that >90 of the games published by Namco Bandai were for the Sony PSP and Vita consoles, which had small install bases in the market anyway."
   ]
  },
  {
   "cell_type": "markdown",
   "metadata": {},
   "source": [
    "# Q3 : What was their overall market share?"
   ]
  },
  {
   "cell_type": "code",
   "execution_count": 14,
   "metadata": {
    "scrolled": false
   },
   "outputs": [
    {
     "data": {
      "text/plain": [
       "1446.7399999999607"
      ]
     },
     "execution_count": 14,
     "metadata": {},
     "output_type": "execute_result"
    }
   ],
   "source": [
    "data['Global_Sales'].sum()"
   ]
  },
  {
   "cell_type": "code",
   "execution_count": 15,
   "metadata": {},
   "outputs": [
    {
     "data": {
      "text/plain": [
       "Publisher\n",
       "Activision            0.129719\n",
       "Electronic Arts       0.151078\n",
       "Namco Bandai Games    0.040857\n",
       "Nintendo              0.136735\n",
       "Ubisoft               0.089525\n",
       "Name: Global_Sales, dtype: float64"
      ]
     },
     "execution_count": 15,
     "metadata": {},
     "output_type": "execute_result"
    }
   ],
   "source": [
    "data[data['Publisher'].isin(top_publishers)].groupby('Publisher')['Global_Sales'].sum() / data['Global_Sales'].sum()"
   ]
  },
  {
   "cell_type": "code",
   "execution_count": 16,
   "metadata": {},
   "outputs": [
    {
     "data": {
      "text/plain": [
       "0.5479146218394609"
      ]
     },
     "execution_count": 16,
     "metadata": {},
     "output_type": "execute_result"
    }
   ],
   "source": [
    "(data[data['Publisher'].isin(top_publishers)].groupby('Publisher')['Global_Sales'].sum() / data['Global_Sales'].sum()).sum()"
   ]
  },
  {
   "cell_type": "markdown",
   "metadata": {},
   "source": [
    "Out of the approximately 1.5 billion games sold during this period, only 54% were published by the top publishers in the industry. I'd say that's a pretty good indication of healthy competition in the market."
   ]
  },
  {
   "cell_type": "markdown",
   "metadata": {},
   "source": [
    "# Q4 : What were the top games for each of these publishers?"
   ]
  },
  {
   "cell_type": "code",
   "execution_count": 17,
   "metadata": {
    "scrolled": false
   },
   "outputs": [
    {
     "name": "stdout",
     "output_type": "stream",
     "text": [
      "Namco Bandai Games :\n",
      "Name\n",
      "The Witcher 3: Wild Hunt                    6.00\n",
      "Dark Souls II                               3.01\n",
      "Dragon Ball: XenoVerse                      2.15\n",
      "Dark Souls III                              2.11\n",
      "Naruto Shippuden: Ultimate Ninja Storm 3    1.44\n",
      "Name: Global_Sales, dtype: float64\n",
      "\n",
      "\n",
      "Activision :\n",
      "Name\n",
      "Call of Duty: Black Ops II        29.40\n",
      "Call of Duty: Ghosts              27.40\n",
      "Call of Duty: Black Ops 3         25.68\n",
      "Call of Duty: Advanced Warfare    21.99\n",
      "Destiny                           12.55\n",
      "Name: Global_Sales, dtype: float64\n",
      "\n",
      "\n",
      "Electronic Arts :\n",
      "Name\n",
      "FIFA 15           17.34\n",
      "FIFA 14           16.48\n",
      "FIFA 16           16.30\n",
      "FIFA Soccer 13    15.96\n",
      "Battlefield 4     13.93\n",
      "Name: Global_Sales, dtype: float64\n",
      "\n",
      "\n",
      "Ubisoft :\n",
      "Name\n",
      "Assassin's Creed III               13.02\n",
      "Assassin's Creed IV: Black Flag    13.02\n",
      "Watch Dogs                          9.19\n",
      "Just Dance 4                        8.74\n",
      "Far Cry 4                           8.49\n",
      "Name: Global_Sales, dtype: float64\n",
      "\n",
      "\n",
      "Nintendo :\n",
      "Name\n",
      "Pokemon X/Pokemon Y                          14.60\n",
      "Super Smash Bros. for Wii U and 3DS          12.42\n",
      "Pokemon Omega Ruby/Pokemon Alpha Sapphire    11.68\n",
      "New Super Mario Bros. 2                       9.90\n",
      "Animal Crossing: New Leaf                     9.16\n",
      "Name: Global_Sales, dtype: float64\n",
      "\n",
      "\n"
     ]
    }
   ],
   "source": [
    "for publisher in top_publishers:\n",
    "    print (publisher + \" :\")\n",
    "    print (data[data['Publisher'] == publisher].groupby('Name')['Global_Sales'].sum().nlargest(5))\n",
    "    print (\"\\n\")"
   ]
  },
  {
   "cell_type": "markdown",
   "metadata": {},
   "source": [
    "It's extremely interesting to me that all three western publishers (Activision, Electronic Arts, and Ubisoft) rely heavily on sequels to make up the bulk of their sales. In the case of Activision and EA, the bulk of their sales come from one franchise (Call of Duty and FIFA, respectively)."
   ]
  },
  {
   "cell_type": "markdown",
   "metadata": {},
   "source": [
    "# Q5 : What was the relationship between the metacritic scores and sales?"
   ]
  },
  {
   "cell_type": "markdown",
   "metadata": {},
   "source": [
    "An interesting nugget of information in the book was about how some publishers incentivized developers to make better games by tying bonuses to the Metacritic scores for games after they are released. This was an alarming fact for me, because it ties financial compensation for a piece of art directly to its critical success (thus encouraging a cozy relationship between developers and game reviewers). Plus, it discourages radical experimentation by forcing developers to think about a narrow audience (critics) instead of doing what they inherently feel is fun and fresh.\n",
    "\n",
    "I was curious to test this idea from the publishers -- that higher review scores lead to higher sales -- by looking at the data."
   ]
  },
  {
   "cell_type": "code",
   "execution_count": 21,
   "metadata": {
    "collapsed": true
   },
   "outputs": [],
   "source": [
    "user_score = list(data[data['Publisher'].isin(top_publishers)]['User_Score'])\n",
    "critic_score = list(data[data['Publisher'].isin(top_publishers)]['Critic_Score'])\n",
    "global_sales = list(data[data['Publisher'].isin(top_publishers)]['Global_Sales'])"
   ]
  },
  {
   "cell_type": "code",
   "execution_count": 22,
   "metadata": {},
   "outputs": [
    {
     "data": {
      "text/plain": [
       "<matplotlib.text.Text at 0x10ee3c668>"
      ]
     },
     "execution_count": 22,
     "metadata": {},
     "output_type": "execute_result"
    },
    {
     "data": {
      "image/png": "[encoded data removed]",
      "text/plain": [
       "<matplotlib.figure.Figure at 0x10ed007b8>"
      ]
     },
     "metadata": {},
     "output_type": "display_data"
    }
   ],
   "source": [
    "# rel = data.plot(x=critic_score, y=global_sales)\n",
    "plt.scatter(critic_score, global_sales)\n",
    "plt.xlabel(\"Critic Score\")\n",
    "plt.ylabel(\"Units Sold (millions)\")"
   ]
  },
  {
   "cell_type": "markdown",
   "metadata": {},
   "source": [
    "At this stage, I realized that I would likely have to filter my dataset to be able to draw any meaningful conclusions from it. Because of the infinite number of differentiators between games -- length, content, gameplay, etc. a game like \"Dance Central 3\" will never sell as many games as, say \"Call of Duty,\" despite how high its Metacritic scores are. Therefore, I chose (somewhat arbitrarily) to filter my data to include only those games that sold >1 million units."
   ]
  },
  {
   "cell_type": "code",
   "execution_count": 29,
   "metadata": {
    "collapsed": true,
    "scrolled": true
   },
   "outputs": [],
   "source": [
    "reviews = data.copy()\n",
    "reviews.loc[:,'Critic_Score'] = pd.to_numeric(reviews['Critic_Score'])\n",
    "reviews.loc[:,'User_Score'] = pd.to_numeric(reviews['User_Score'])\n",
    "\n",
    "reviews.loc[:,'Critic_Score'] = reviews[reviews['Critic_Score'] > 0]\n",
    "reviews.loc[:,'User_Score'] = reviews[reviews['User_Score'] > 0]\n",
    "reviews.loc[:,'Global_Sales'] = reviews[reviews['Global_Sales'] > 1]"
   ]
  },
  {
   "cell_type": "code",
   "execution_count": 30,
   "metadata": {
    "scrolled": true
   },
   "outputs": [
    {
     "data": {
      "text/plain": [
       "<matplotlib.text.Text at 0x10f9d3198>"
      ]
     },
     "execution_count": 30,
     "metadata": {},
     "output_type": "execute_result"
    },
    {
     "data": {
      "image/png": "[encoded data removed]",
      "text/plain": [
       "<matplotlib.figure.Figure at 0x10f9d6978>"
      ]
     },
     "metadata": {},
     "output_type": "display_data"
    }
   ],
   "source": [
    "user_score = list(reviews[reviews['Publisher'].isin(top_publishers)]['User_Score'])\n",
    "critic_score = list(reviews[reviews['Publisher'].isin(top_publishers)]['Critic_Score'])\n",
    "global_sales = list(reviews[reviews['Publisher'].isin(top_publishers)]['Global_Sales'])\n",
    "\n",
    "plt.scatter(critic_score, global_sales)\n",
    "plt.xlabel(\"Critic Score\")\n",
    "plt.ylabel(\"Units Sold (millions)\")"
   ]
  },
  {
   "cell_type": "code",
   "execution_count": 31,
   "metadata": {},
   "outputs": [
    {
     "data": {
      "text/plain": [
       "0.27127412976659748"
      ]
     },
     "execution_count": 31,
     "metadata": {},
     "output_type": "execute_result"
    }
   ],
   "source": [
    "reviews['Critic_Score'].corr(reviews['Global_Sales'])"
   ]
  },
  {
   "cell_type": "markdown",
   "metadata": {},
   "source": [
    "As it turns out, critic scores are poorly correlated with global sales. Something developers should remind publishers of next time they are under the gun to make changes to a game. I was also curious to inspect which game lead to >1 mil in sales despite a low critic score (see below). Of course, it was a Call of Duty game for the PS Vita."
   ]
  },
  {
   "cell_type": "code",
   "execution_count": 35,
   "metadata": {},
   "outputs": [
    {
     "data": {
      "text/html": [
       "<div>\n",
       "<style>\n",
       "    .dataframe thead tr:only-child th {\n",
       "        text-align: right;\n",
       "    }\n",
       "\n",
       "    .dataframe thead th {\n",
       "        text-align: left;\n",
       "    }\n",
       "\n",
       "    .dataframe tbody tr th {\n",
       "        vertical-align: top;\n",
       "    }\n",
       "</style>\n",
       "<table border=\"1\" class=\"dataframe\">\n",
       "  <thead>\n",
       "    <tr style=\"text-align: right;\">\n",
       "      <th></th>\n",
       "      <th>Name</th>\n",
       "      <th>Platform</th>\n",
       "      <th>Year_of_Release</th>\n",
       "      <th>Genre</th>\n",
       "      <th>Publisher</th>\n",
       "      <th>NA_Sales</th>\n",
       "      <th>EU_Sales</th>\n",
       "      <th>JP_Sales</th>\n",
       "      <th>Other_Sales</th>\n",
       "      <th>Global_Sales</th>\n",
       "      <th>Critic_Score</th>\n",
       "      <th>Critic_Count</th>\n",
       "      <th>User_Score</th>\n",
       "      <th>User_Count</th>\n",
       "      <th>Developer</th>\n",
       "      <th>Rating</th>\n",
       "    </tr>\n",
       "  </thead>\n",
       "  <tbody>\n",
       "    <tr>\n",
       "      <th>1294</th>\n",
       "      <td>Call of Duty Black Ops: Declassified</td>\n",
       "      <td>PSV</td>\n",
       "      <td>2012.0</td>\n",
       "      <td>Action</td>\n",
       "      <td>Activision</td>\n",
       "      <td>0.71</td>\n",
       "      <td>0.43</td>\n",
       "      <td>0.07</td>\n",
       "      <td>0.26</td>\n",
       "      <td>1.47</td>\n",
       "      <td>33.0</td>\n",
       "      <td>58.0</td>\n",
       "      <td>4.8</td>\n",
       "      <td>479.0</td>\n",
       "      <td>Nihilistic</td>\n",
       "      <td>M</td>\n",
       "    </tr>\n",
       "  </tbody>\n",
       "</table>\n",
       "</div>"
      ],
      "text/plain": [
       "                                      Name Platform  Year_of_Release   Genre  \\\n",
       "1294  Call of Duty Black Ops: Declassified      PSV           2012.0  Action   \n",
       "\n",
       "       Publisher  NA_Sales  EU_Sales  JP_Sales  Other_Sales  Global_Sales  \\\n",
       "1294  Activision      0.71      0.43      0.07         0.26          1.47   \n",
       "\n",
       "      Critic_Score  Critic_Count User_Score  User_Count   Developer Rating  \n",
       "1294          33.0          58.0        4.8       479.0  Nihilistic      M  "
      ]
     },
     "execution_count": 35,
     "metadata": {},
     "output_type": "execute_result"
    }
   ],
   "source": [
    "data[(data['Global_Sales'] > 1.0) & (data['Critic_Score'] < 50.0) & (data['Critic_Score'] > 10.0)]"
   ]
  },
  {
   "cell_type": "markdown",
   "metadata": {},
   "source": [
    "# Q6 : What was the relationship between the user scores and sales?"
   ]
  },
  {
   "cell_type": "code",
   "execution_count": 36,
   "metadata": {},
   "outputs": [
    {
     "data": {
      "text/plain": [
       "<matplotlib.text.Text at 0x10fb4a9e8>"
      ]
     },
     "execution_count": 36,
     "metadata": {},
     "output_type": "execute_result"
    },
    {
     "data": {
      "image/png": "[encoded data removed]",
      "text/plain": [
       "<matplotlib.figure.Figure at 0x10fb78400>"
      ]
     },
     "metadata": {},
     "output_type": "display_data"
    }
   ],
   "source": [
    "plt.scatter(user_score, global_sales)\n",
    "plt.xlabel(\"User Score\")\n",
    "plt.ylabel(\"Units Sold (millions)\")"
   ]
  },
  {
   "cell_type": "code",
   "execution_count": 28,
   "metadata": {},
   "outputs": [
    {
     "data": {
      "text/plain": [
       "-0.072270270370142664"
      ]
     },
     "execution_count": 28,
     "metadata": {},
     "output_type": "execute_result"
    }
   ],
   "source": [
    "reviews['User_Score'].corr(reviews['Global_Sales'])"
   ]
  },
  {
   "cell_type": "markdown",
   "metadata": {},
   "source": [
    "Again, there is a weak correlation between reviews scores and sales. This is less surprising though, given that user scores likely suffer from self-selection bias. People who review games on the internet are more likely to do so when they are unhappy with the game."
   ]
  },
  {
   "cell_type": "markdown",
   "metadata": {},
   "source": [
    "# Q7 : What is the relationship between metacritic scores and user scores?"
   ]
  },
  {
   "cell_type": "code",
   "execution_count": 30,
   "metadata": {},
   "outputs": [
    {
     "data": {
      "text/plain": [
       "<matplotlib.text.Text at 0x1103d2048>"
      ]
     },
     "execution_count": 30,
     "metadata": {},
     "output_type": "execute_result"
    },
    {
     "data": {
      "image/png": "[encoded data removed]",
      "text/plain": [
       "<matplotlib.figure.Figure at 0x1103a6e48>"
      ]
     },
     "metadata": {},
     "output_type": "display_data"
    }
   ],
   "source": [
    "plt.scatter(user_score, critic_score)\n",
    "plt.xlabel(\"User Score\")\n",
    "plt.ylabel(\"Critic Score\")"
   ]
  },
  {
   "cell_type": "code",
   "execution_count": 31,
   "metadata": {},
   "outputs": [
    {
     "data": {
      "text/plain": [
       "0.5177272095232911"
      ]
     },
     "execution_count": 31,
     "metadata": {},
     "output_type": "execute_result"
    }
   ],
   "source": [
    "reviews['User_Score'].corr(reviews['Critic_Score'])"
   ]
  },
  {
   "cell_type": "markdown",
   "metadata": {},
   "source": [
    "I've always wondered how well critic scores represented the sentiment of users. It turns out that there is a moderate correlation between the two, especially given that the user scores likely have the self-selection bias I referred to earlier (the correlation would probably be higher if you could remove the so-called \"rage-reviewers\")"
   ]
  },
  {
   "cell_type": "markdown",
   "metadata": {},
   "source": [
    "# Conclusion"
   ]
  },
  {
   "cell_type": "markdown",
   "metadata": {},
   "source": [
    "All of the analysis in this notebook was done in the matter of a few hours. It's not perfect, but the information shown here does indicate that the relationship between review scores and sales is, in fact, tenuous. But it begs another question -- what DOES result in better sales for a particular game? Is it marketing, console exclusive tie-ins, or something else? It's unclear. What is known, however, is that more developers are <a href=\"https://mashable.com/2014/03/08/indie-developers-self-publishing/#_ZDbUqGnp8q3\">moving away</a> from the traditional publisher model to have more creative freedom. Some <a href=\"https://www.theverge.com/2018/4/4/17199388/indie-game-publishers-double-fine-annapurna-devolver-skybound\">forward thinking publishers</a> are shifting their approach to the industry by offering more support for their creative endeavors (instead of cracking the whip)."
   ]
  }
 ],
 "metadata": {
  "kernelspec": {
   "display_name": "Python 3",
   "language": "python",
   "name": "python3"
  },
  "language_info": {
   "codemirror_mode": {
    "name": "ipython",
    "version": 3
   },
   "file_extension": ".py",
   "mimetype": "text/x-python",
   "name": "python",
   "nbconvert_exporter": "python",
   "pygments_lexer": "ipython3",
   "version": "3.6.2"
  }
 },
 "nbformat": 4,
 "nbformat_minor": 2
}
